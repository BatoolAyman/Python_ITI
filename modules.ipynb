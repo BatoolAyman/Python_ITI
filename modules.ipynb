{
  "nbformat": 4,
  "nbformat_minor": 0,
  "metadata": {
    "colab": {
      "provenance": []
    },
    "kernelspec": {
      "name": "python3",
      "display_name": "Python 3"
    },
    "language_info": {
      "name": "python"
    }
  },
  "cells": [
    {
      "cell_type": "code",
      "execution_count": 1,
      "metadata": {
        "colab": {
          "base_uri": "https://localhost:8080/"
        },
        "id": "PA1JsTUz-AT-",
        "outputId": "9a6d65a6-6b5f-4df3-c522-9aca6b5879d9"
      },
      "outputs": [
        {
          "output_type": "stream",
          "name": "stdout",
          "text": [
            "Enter your string: a\n",
            "Number of vowels in string: 1\n"
          ]
        }
      ],
      "source": [
        "#1) Write a program that counts up the number of vowels [a, e, i, o, u]contained in the string function\n",
        "def count_vowels(text):\n",
        "    vowels = [\"a\", \"e\", \"i\", \"o\", \"u\"]\n",
        "    count = 0\n",
        "    for char in text:\n",
        "        if char.lower() in vowels:\n",
        "            count += 1\n",
        "    return count\n",
        "\n",
        "x = input(\"Enter your string: \")\n",
        "result = count_vowels(x)\n",
        "print(\"Number of vowels in string:\", result)\n"
      ]
    },
    {
      "cell_type": "code",
      "source": [
        "#convert function into module\n",
        "import random\n",
        "import string\n",
        "import copy\n",
        "\n",
        "# Function to generate a random word of given length\n",
        "def generate_random_word(length):\n",
        "    return ''.join(random.choices(string.ascii_lowercase, k=length))\n",
        "\n",
        "# Create 2D list of random words (3 rows × 2 columns)\n",
        "random_words = [[generate_random_word(5) for _ in range(2)] for _ in range(3)]\n",
        "\n",
        "# Make a deep copy to simulate working on a copy of original data\n",
        "copied_words = copy.deepcopy(random_words)\n"
      ],
      "metadata": {
        "id": "tuzMmkzv-fRr"
      },
      "execution_count": 4,
      "outputs": []
    },
    {
      "cell_type": "code",
      "source": [
        "def count_vowels(text):\n",
        "    return sum(1 for char in text if char.lower() in \"aeiou\")\n",
        "# Create a 2D list with word and its vowel count\n",
        "results = [[word, count_vowels(word)] for row in copied_words for word in row]\n",
        "\n",
        "# Display results\n",
        "for word, vowel_count in results:\n",
        "    print(f\"Word: {word}, Vowel Count: {vowel_count}\")\n"
      ],
      "metadata": {
        "colab": {
          "base_uri": "https://localhost:8080/"
        },
        "id": "q-5gcnBV_qG_",
        "outputId": "a5aeba8e-149d-4529-a3e3-7470aa5cf152"
      },
      "execution_count": 6,
      "outputs": [
        {
          "output_type": "stream",
          "name": "stdout",
          "text": [
            "Word: zxjhs, Vowel Count: 0\n",
            "Word: srajo, Vowel Count: 2\n",
            "Word: nvzle, Vowel Count: 1\n",
            "Word: jdsdd, Vowel Count: 0\n",
            "Word: mpsde, Vowel Count: 1\n",
            "Word: brdka, Vowel Count: 1\n"
          ]
        }
      ]
    },
    {
      "cell_type": "code",
      "source": [
        "#2) Write a program that generate a multiplication table from 1 to the number passed function\n",
        "def multiplication_table(number):\n",
        "    for i in range(1, number + 1):\n",
        "        for j in range(1, i + 1):\n",
        "            print(f\"{i}x{j}={i*j}\", end=\" , \")\n",
        "        print()\n",
        "num = int(input(\"Enter the number: \"))\n",
        "multiplication_table(num)\n"
      ],
      "metadata": {
        "colab": {
          "base_uri": "https://localhost:8080/"
        },
        "id": "XO8BVFG7ABiv",
        "outputId": "89a107a1-8516-44fb-cfa5-cc299d6896c9"
      },
      "execution_count": 7,
      "outputs": [
        {
          "output_type": "stream",
          "name": "stdout",
          "text": [
            "Enter the number: 1\n",
            "1x1=1 , \n"
          ]
        }
      ]
    },
    {
      "cell_type": "code",
      "source": [
        "# convert function into module\n",
        "%%writefile multiplication_module.py\n",
        "\n",
        "def multiplication_table(number):\n",
        "    for i in range(1, number + 1):\n",
        "        for j in range(1, i + 1):\n",
        "            print(f\"{i}x{j}={i*j}\", end=\" , \")\n",
        "        print()"
      ],
      "metadata": {
        "colab": {
          "base_uri": "https://localhost:8080/"
        },
        "id": "sn1rhYxtAp-j",
        "outputId": "4fb3150b-8876-4222-a6e0-af134262644b"
      },
      "execution_count": 11,
      "outputs": [
        {
          "output_type": "stream",
          "name": "stdout",
          "text": [
            "Overwriting multiplication_module.py\n"
          ]
        }
      ]
    },
    {
      "cell_type": "code",
      "source": [
        "from multiplication_module import multiplication_table\n",
        "num = int(input(\"Enter the number: \"))\n",
        "multiplication_table(num)"
      ],
      "metadata": {
        "colab": {
          "base_uri": "https://localhost:8080/"
        },
        "id": "JX8aFv0vAqF9",
        "outputId": "23c94586-fb4e-4c8d-b42d-c25b75841bc4"
      },
      "execution_count": 10,
      "outputs": [
        {
          "output_type": "stream",
          "name": "stdout",
          "text": [
            "Enter the number: 1\n",
            "1x1=1 , \n",
            "Enter the number: 2\n",
            "1x1=1 , \n",
            "2x1=2 , 2x2=4 , \n"
          ]
        }
      ]
    },
    {
      "cell_type": "code",
      "source": [
        "#3) Write a program that build a Mario pyramid like below function\n",
        "def right_triangle(row):\n",
        "    for i in range(1, row + 1):\n",
        "        print(\" \" * (row - i) + \"*\" * i)\n",
        "rows = int(input(\"Enter the number of rows: \"))\n",
        "right_triangle(rows)\n"
      ],
      "metadata": {
        "colab": {
          "base_uri": "https://localhost:8080/"
        },
        "id": "jFm7uJRABB_w",
        "outputId": "f8f07845-38ac-429a-8cf1-dcf36d82a9cd"
      },
      "execution_count": 12,
      "outputs": [
        {
          "output_type": "stream",
          "name": "stdout",
          "text": [
            "Enter the number of rows: 4\n",
            "   *\n",
            "  **\n",
            " ***\n",
            "****\n"
          ]
        }
      ]
    },
    {
      "cell_type": "code",
      "source": [
        "#4) Fill an array of 5 elements from the user, Sort it in descending and ascending orders then display the output. function\n",
        "def sort_numbers():\n",
        "    list_1 = []\n",
        "    print(\"Enter 5 numbers:\")\n",
        "    for i in range(5):\n",
        "        num = int(input(f\"Enter number {i+1}: \"))\n",
        "        list_1.append(num)\n",
        "\n",
        "    ascending = sorted(list_1)\n",
        "    descending = sorted(list_1, reverse=True)\n",
        "\n",
        "    print(\"\\nOriginal list:\", list_1)\n",
        "    print(\"Ascending order:\", ascending)\n",
        "    print(\"Descending order:\", descending)\n",
        "sort_numbers()"
      ],
      "metadata": {
        "colab": {
          "base_uri": "https://localhost:8080/"
        },
        "id": "YN-hM07QB9Hz",
        "outputId": "8d8a2ccc-034a-4929-9034-4ae2783b24b3"
      },
      "execution_count": 14,
      "outputs": [
        {
          "output_type": "stream",
          "name": "stdout",
          "text": [
            "Enter 5 numbers:\n",
            "Enter number 1: 23\n",
            "Enter number 2: 45\n",
            "Enter number 3: 78\n",
            "Enter number 4: 99\n",
            "Enter number 5: 12\n",
            "\n",
            "Original list: [23, 45, 78, 99, 12]\n",
            "Ascending order: [12, 23, 45, 78, 99]\n",
            "Descending order: [99, 78, 45, 23, 12]\n"
          ]
        }
      ]
    },
    {
      "cell_type": "code",
      "source": [
        "#convert into module\n",
        "%%writefile sort_module.py\n",
        "\n",
        "def sort_numbers():\n",
        "    list_1 = []\n",
        "    print(\"Enter 5 numbers:\")\n",
        "    for i in range(5):\n",
        "        num = int(input(f\"Enter number {i+1}: \"))\n",
        "        list_1.append(num)\n",
        "\n",
        "    ascending = sorted(list_1)\n",
        "    descending = sorted(list_1, reverse=True)\n",
        "\n",
        "    print(\"\\nOriginal list:\", list_1)\n",
        "    print(\"Ascending order:\", ascending)\n",
        "    print(\"Descending order:\", descending)\n"
      ],
      "metadata": {
        "colab": {
          "base_uri": "https://localhost:8080/"
        },
        "id": "aFJnu_ANB9KV",
        "outputId": "5a2dc61d-20bb-426b-816b-067eccb34340"
      },
      "execution_count": 15,
      "outputs": [
        {
          "output_type": "stream",
          "name": "stdout",
          "text": [
            "Writing sort_module.py\n"
          ]
        }
      ]
    },
    {
      "cell_type": "code",
      "source": [
        "from sort_module import sort_numbers\n",
        "sort_numbers()"
      ],
      "metadata": {
        "colab": {
          "base_uri": "https://localhost:8080/"
        },
        "id": "vf_e-gjsB9Ny",
        "outputId": "5cb517d1-d4ca-42ac-9e77-f6b3cb1b8fc7"
      },
      "execution_count": 16,
      "outputs": [
        {
          "output_type": "stream",
          "name": "stdout",
          "text": [
            "Enter 5 numbers:\n",
            "Enter number 1: 22\n",
            "Enter number 2: 10\n",
            "Enter number 3: 9\n",
            "Enter number 4: 7\n",
            "Enter number 5: 66\n",
            "\n",
            "Original list: [22, 10, 9, 7, 66]\n",
            "Ascending order: [7, 9, 10, 22, 66]\n",
            "Descending order: [66, 22, 10, 9, 7]\n"
          ]
        }
      ]
    },
    {
      "cell_type": "code",
      "source": [
        "#5) #Write a program that generate a multiplication table from 1 to the number passed function\n",
        "def multiplication_pattern(num):\n",
        "    result = []\n",
        "    for i in range(1, num + 1):\n",
        "        row = []\n",
        "        for j in range(1, i + 1):\n",
        "            row.append(i * j)\n",
        "        result.append(row)\n",
        "    return result\n",
        "num = int(input(\"Enter the number: \"))\n",
        "pattern = multiplication_pattern(num)\n",
        "print(pattern)\n"
      ],
      "metadata": {
        "colab": {
          "base_uri": "https://localhost:8080/"
        },
        "id": "qAGaW_0-C-5-",
        "outputId": "c1db3c10-f24f-48ba-dd7c-1e00b677df3a"
      },
      "execution_count": 19,
      "outputs": [
        {
          "output_type": "stream",
          "name": "stdout",
          "text": [
            "Enter the number: 3\n",
            "[[1], [2, 4], [3, 6, 9]]\n"
          ]
        }
      ]
    },
    {
      "cell_type": "code",
      "source": [
        "#convert into module\n",
        "%%writefile multiplication_pattern_module.py\n",
        "import copy\n",
        "def multiplication_pattern(num):\n",
        "    result = []\n",
        "    for i in range(1, num + 1):\n",
        "        row = []\n",
        "        for j in range(1, i + 1):\n",
        "            row.append(i * j)\n",
        "        result.append(row)\n",
        "\n",
        "    copied_result = copy.deepcopy(result)\n",
        "\n",
        "    comprehension_result = [[i * j for j in range(1, i + 1)] for i in range(1, num + 1)]\n",
        "    return copied_result, comprehension_result\n"
      ],
      "metadata": {
        "colab": {
          "base_uri": "https://localhost:8080/"
        },
        "id": "WUI1-gpaDeMJ",
        "outputId": "4fcd96f6-b3b9-4adc-99fa-b3364b65dcb1"
      },
      "execution_count": 20,
      "outputs": [
        {
          "output_type": "stream",
          "name": "stdout",
          "text": [
            "Writing multiplication_pattern_module.py\n"
          ]
        }
      ]
    },
    {
      "cell_type": "code",
      "source": [
        "from multiplication_pattern_module import multiplication_pattern\n",
        "\n",
        "num = int(input(\"Enter the number: \"))\n",
        "deepcopy_version, comprehension_version = multiplication_pattern(num)\n",
        "\n",
        "print(\"Multiplication Pattern (deepcopy version):\")\n",
        "print(deepcopy_version)\n",
        "\n",
        "print(\"\\nMultiplication Pattern (2D list comprehension version):\")\n",
        "print(comprehension_version)\n"
      ],
      "metadata": {
        "colab": {
          "base_uri": "https://localhost:8080/"
        },
        "id": "SMiZ8B9nEFDn",
        "outputId": "1b5a67b2-68b1-4f36-876b-f5df1cebedb3"
      },
      "execution_count": 21,
      "outputs": [
        {
          "output_type": "stream",
          "name": "stdout",
          "text": [
            "Enter the number: 3\n",
            "Multiplication Pattern (deepcopy version):\n",
            "[[1], [2, 4], [3, 6, 9]]\n",
            "\n",
            "Multiplication Pattern (2D list comprehension version):\n",
            "[[1], [2, 4], [3, 6, 9]]\n"
          ]
        }
      ]
    },
    {
      "cell_type": "code",
      "source": [
        "#6) # Ask the user for his name then confirm that he has entered his name(not an empty\n",
        "#string/integers). then proceed to ask him for his email and print all this data check if it is a valid email or no(function)\n",
        "def get_user_info():\n",
        "    while True:\n",
        "        user_name = input(\"Enter your name: \").strip()\n",
        "        if user_name and not user_name.isdigit():\n",
        "            break\n",
        "        else:\n",
        "            print(\"Invalid input, please enter a valid name (not empty or numeric).\")\n",
        "\n",
        "    email = input(\"Enter your email: \").strip()\n",
        "    is_valid_email = \"@\" in email and \".\" in email and email.index(\"@\") < email.rindex(\".\")\n",
        "\n",
        "    print(\"\\n----- All This Data -----\")\n",
        "    print(f\"Name: {user_name}\")\n",
        "    print(f\"Email: {email}\")\n",
        "\n",
        "    if is_valid_email:\n",
        "        print(\"Email is valid\")\n",
        "    else:\n",
        "        print(\"Email is not valid\")\n",
        "get_user_info()"
      ],
      "metadata": {
        "colab": {
          "base_uri": "https://localhost:8080/"
        },
        "id": "0Vq3DdYnEMsL",
        "outputId": "3c5e2c8d-33cb-467c-ec15-80fa3c05caf5"
      },
      "execution_count": 22,
      "outputs": [
        {
          "output_type": "stream",
          "name": "stdout",
          "text": [
            "Enter your name: batool\n",
            "Enter your email: batool\n",
            "\n",
            "----- All This Data -----\n",
            "Name: batool\n",
            "Email: batool\n",
            "Email is not valid\n"
          ]
        }
      ]
    },
    {
      "cell_type": "code",
      "source": [
        "#convert into module\n",
        "%%writefile user_info_module.py\n",
        "import copy\n",
        "def get_user_info():\n",
        "    while True:\n",
        "        user_name = input(\"Enter your name: \").strip()\n",
        "        if user_name and not user_name.isdigit():\n",
        "            break\n",
        "        else:\n",
        "            print(\"Invalid input, please enter a valid name (not empty or numeric).\")\n",
        "\n",
        "    email = input(\"Enter your email: \").strip()\n",
        "    is_valid_email = \"@\" in email and \".\" in email and email.index(\"@\") < email.rindex(\".\")\n",
        "\n",
        "    user_data = {\"name\": user_name, \"email\": email, \"email_valid\": is_valid_email}\n",
        "\n",
        "    backup_data = copy.deepcopy(user_data)\n",
        "\n",
        "    formatted = [[key, str(value)] for key, value in backup_data.items()]\n",
        "\n",
        "    print(\"\\n----- User Info -----\")\n",
        "    for item in formatted:\n",
        "        print(f\"{item[0].capitalize()}: {item[1]}\")\n",
        "\n",
        "    if is_valid_email:\n",
        "        print(\"Email is valid\")\n",
        "    else:\n",
        "        print(\"Email is not valid\")\n"
      ],
      "metadata": {
        "colab": {
          "base_uri": "https://localhost:8080/"
        },
        "id": "Id_fdslPE3Gf",
        "outputId": "7835f63f-3f54-4e59-cf03-528a056181d5"
      },
      "execution_count": 23,
      "outputs": [
        {
          "output_type": "stream",
          "name": "stdout",
          "text": [
            "Writing user_info_module.py\n"
          ]
        }
      ]
    },
    {
      "cell_type": "code",
      "source": [
        "from user_info_module import get_user_info\n",
        "\n",
        "get_user_info()\n"
      ],
      "metadata": {
        "colab": {
          "base_uri": "https://localhost:8080/"
        },
        "id": "ONLYc9GHFZO3",
        "outputId": "d9fdfb41-4fc9-4afc-b32d-789e775875f7"
      },
      "execution_count": 24,
      "outputs": [
        {
          "output_type": "stream",
          "name": "stdout",
          "text": [
            "Enter your name: batool\n",
            "Enter your email: batool@gmail.com\n",
            "\n",
            "----- User Info -----\n",
            "Name: batool\n",
            "Email: batool@gmail.com\n",
            "Email_valid: True\n",
            "Email is valid\n"
          ]
        }
      ]
    },
    {
      "cell_type": "code",
      "source": [
        "#7) convert into module\n",
        "%%writefile email_validation_module.py\n",
        "import copy\n",
        "def is_valid_email(email):\n",
        "    if '@' in email and '.' in email:\n",
        "        parts = email.split('@')\n",
        "        if len(parts) == 2:\n",
        "            username, domain = parts\n",
        "            if username and domain and '.' in domain:\n",
        "                domain_parts = domain.split('.')\n",
        "                if len(domain_parts) >= 2 and all(domain_parts):\n",
        "                    return True\n",
        "    return False\n",
        "\n",
        "def validate_user_email():\n",
        "    email = input(\"Please enter email: \").strip()\n",
        "    while not is_valid_email(email):\n",
        "        print(\"Invalid email. Try again.\")\n",
        "        email = input(\"Please enter a valid email: \").strip()\n",
        "\n",
        "    print(\"Valid email:\", email)\n",
        "    return email\n",
        "\n",
        "def filter_valid_emails(email_list):\n",
        "\n",
        "    copied_emails = copy.deepcopy(email_list)\n",
        "\n",
        "    validation_result = [[email, is_valid_email(email)] for email in copied_emails]\n",
        "\n",
        "    return [email for email, valid in validation_result if valid]\n"
      ],
      "metadata": {
        "colab": {
          "base_uri": "https://localhost:8080/"
        },
        "id": "VoN0T6alFcKb",
        "outputId": "6064aa45-42bb-48fd-df82-71baa8fa0765"
      },
      "execution_count": 26,
      "outputs": [
        {
          "output_type": "stream",
          "name": "stdout",
          "text": [
            "Writing email_validation_module.py\n"
          ]
        }
      ]
    },
    {
      "cell_type": "code",
      "source": [
        "from email_validation_module import validate_user_email, filter_valid_emails\n",
        "validate_user_email()\n",
        "emails = [\n",
        "    \"batool@example.com\",\n",
        "    \"user@domain.co.uk\",\n",
        "    \"invalidemail.com\",\n",
        "    \"user@.com\",\n",
        "    \"@nodomain.com\",\n",
        "    \"name@domain.com\"\n",
        "]\n",
        "\n",
        "valid_emails = filter_valid_emails(emails)\n",
        "\n",
        "print(\"\\nValid emails from list:\")\n",
        "for email in valid_emails:\n",
        "    print(email)\n"
      ],
      "metadata": {
        "colab": {
          "base_uri": "https://localhost:8080/"
        },
        "id": "t8VxfzY2JXvb",
        "outputId": "8f2842b0-0e97-48a7-f6d2-68193402ece0"
      },
      "execution_count": 27,
      "outputs": [
        {
          "output_type": "stream",
          "name": "stdout",
          "text": [
            "Please enter email: batool@gmail.com\n",
            "Valid email: batool@gmail.com\n",
            "\n",
            "Valid emails from list:\n",
            "batool@example.com\n",
            "user@domain.co.uk\n",
            "name@domain.com\n"
          ]
        }
      ]
    },
    {
      "cell_type": "code",
      "source": [
        "#8)convert into module\n",
        "%%writefile user_login_module.py\n",
        "import copy\n",
        "users_data = {\n",
        "    \"alaa\": \"1234\",\n",
        "    \"batool\": \"pass123\",\n",
        "    \"soma\": \"2024\"\n",
        "}\n",
        "def login():\n",
        "    users = copy.deepcopy(users_data)\n",
        "\n",
        "    username = input(\"Enter your username: \")\n",
        "\n",
        "    if username in users:\n",
        "        password = input(\"Enter your password: \")\n",
        "        if password == users[username]:\n",
        "            print(\"Welcome,\", username + \"!\")\n",
        "        else:\n",
        "            print(\"Wrong password.\")\n",
        "    else:\n",
        "        print(\"Username not found.\")\n",
        "def list_users():\n",
        "    users = copy.deepcopy(users_data)\n",
        "    user_list = [[i + 1, name] for i, name in enumerate(users.keys())]\n",
        "    print(\"\\nRegistered Users:\")\n",
        "    for id, name in user_list:\n",
        "        print(f\"{id}. {name}\")\n",
        "\n",
        "\n",
        "\n"
      ],
      "metadata": {
        "colab": {
          "base_uri": "https://localhost:8080/"
        },
        "id": "6uqhAIheJwcD",
        "outputId": "7ba357a8-1b42-4440-d693-f62d923d3a7b"
      },
      "execution_count": 30,
      "outputs": [
        {
          "output_type": "stream",
          "name": "stdout",
          "text": [
            "Overwriting user_login_module.py\n"
          ]
        }
      ]
    },
    {
      "cell_type": "code",
      "source": [
        "from user_login_module import login, list_users\n",
        "list_users()\n",
        "login()"
      ],
      "metadata": {
        "colab": {
          "base_uri": "https://localhost:8080/"
        },
        "id": "pTPtQeh8LFh5",
        "outputId": "87f25623-14cc-4b9f-c323-3f8c3d964e40"
      },
      "execution_count": 31,
      "outputs": [
        {
          "output_type": "stream",
          "name": "stdout",
          "text": [
            "\n",
            "Registered Users:\n",
            "1. alaa\n",
            "2. batool\n",
            "3. soma\n",
            "Enter your username: batool\n",
            "Enter your password: 123\n",
            "Wrong password.\n"
          ]
        }
      ]
    },
    {
      "cell_type": "code",
      "source": [
        "#convert into module\n",
        "%%writefile email_validator_module.py\n",
        "\n",
        "import copy\n",
        "\n",
        "def is_valid_email(email: str) -> bool:\n",
        "    try:\n",
        "        if '@' not in email:\n",
        "            raise ValueError(\"Missing '@'\")\n",
        "        if '.' not in email:\n",
        "            raise ValueError(\"Missing '.'\")\n",
        "        parts = email.split('@')\n",
        "        if len(parts) != 2:\n",
        "            raise ValueError(\"Email must contain only one '@'\")\n",
        "        username, domain = parts\n",
        "        if not username or not domain:\n",
        "            raise ValueError(\"Username or domain is missing\")\n",
        "        domain_parts = domain.split('.')\n",
        "        if len(domain_parts) < 2 or not all(domain_parts):\n",
        "            raise ValueError(\"Invalid domain format\")\n",
        "    except ValueError as e:\n",
        "        print(f\"{email} is invalid: {e}\")\n",
        "        return False\n",
        "    else:\n",
        "        print(f\"{email} is valid\")\n",
        "        return True\n",
        "    finally:\n",
        "        print(\"Checked:\", email, \"\\n\")\n",
        "\n",
        "def filter_valid_emails(email_list: list) -> list:\n",
        "    email_list_copy = copy.deepcopy(email_list)\n",
        "    return list(filter(is_valid_email, email_list_copy))\n",
        "\n",
        "def extract_domains(valid_emails: list) -> list:\n",
        "    return list(map(lambda email: email.split('@')[1], valid_emails))\n",
        "\n",
        "def main():\n",
        "    email = input(\"Please enter email: \")\n",
        "    while not is_valid_email(email):\n",
        "        email = input(\"Please enter a valid email: \")\n",
        "    print(\"Your valid email is:\", email)\n",
        "\n",
        "    emails = [\n",
        "        \"batool@example.com\",\n",
        "        \"ayman@domain.com\",\n",
        "        \"user@domain.co.uk\",\n",
        "        \"invalidemail.com\",\n",
        "        \"ITI@.com\",\n",
        "        \"@nodomain.com\",\n",
        "        \"test@example.com\",\n",
        "        \"sara_1989@yahoo.com\",\n",
        "        \"emily.green@university.edu\",\n",
        "        \"daniel.smith@company.co.uk\"\n",
        "    ]\n",
        "    print(\"\\nFiltering valid emails from list...\")\n",
        "    valid_emails = filter_valid_emails(emails)\n",
        "\n",
        "    print(\"\\nValid emails:\")\n",
        "    for email in valid_emails:\n",
        "        print(\" -\", email)\n",
        "\n",
        "    print(\"\\nExtracted domains (with duplicates):\")\n",
        "    domains = extract_domains(valid_emails)\n",
        "    for domain in domains:\n",
        "        print(\" -\", domain)\n"
      ],
      "metadata": {
        "colab": {
          "base_uri": "https://localhost:8080/"
        },
        "id": "tvEVQdg2LRR3",
        "outputId": "c2d42065-42ad-4f89-d429-f0960cffb8a1"
      },
      "execution_count": 32,
      "outputs": [
        {
          "output_type": "stream",
          "name": "stdout",
          "text": [
            "Writing email_validator_module.py\n"
          ]
        }
      ]
    },
    {
      "cell_type": "code",
      "source": [
        "import email_validator_module as ev\n",
        "\n",
        "ev.main()\n"
      ],
      "metadata": {
        "colab": {
          "base_uri": "https://localhost:8080/"
        },
        "id": "2XtEkhFbOW68",
        "outputId": "abff547c-43d0-4c95-9679-7cd59ece77b9"
      },
      "execution_count": 33,
      "outputs": [
        {
          "output_type": "stream",
          "name": "stdout",
          "text": [
            "Please enter email: ayman@domain.com\n",
            "ayman@domain.com is valid\n",
            "Checked: ayman@domain.com \n",
            "\n",
            "Your valid email is: ayman@domain.com\n",
            "\n",
            "Filtering valid emails from list...\n",
            "batool@example.com is valid\n",
            "Checked: batool@example.com \n",
            "\n",
            "ayman@domain.com is valid\n",
            "Checked: ayman@domain.com \n",
            "\n",
            "user@domain.co.uk is valid\n",
            "Checked: user@domain.co.uk \n",
            "\n",
            "invalidemail.com is invalid: Missing '@'\n",
            "Checked: invalidemail.com \n",
            "\n",
            "ITI@.com is invalid: Invalid domain format\n",
            "Checked: ITI@.com \n",
            "\n",
            "@nodomain.com is invalid: Username or domain is missing\n",
            "Checked: @nodomain.com \n",
            "\n",
            "test@example.com is valid\n",
            "Checked: test@example.com \n",
            "\n",
            "sara_1989@yahoo.com is valid\n",
            "Checked: sara_1989@yahoo.com \n",
            "\n",
            "emily.green@university.edu is valid\n",
            "Checked: emily.green@university.edu \n",
            "\n",
            "daniel.smith@company.co.uk is valid\n",
            "Checked: daniel.smith@company.co.uk \n",
            "\n",
            "\n",
            "Valid emails:\n",
            " - batool@example.com\n",
            " - ayman@domain.com\n",
            " - user@domain.co.uk\n",
            " - test@example.com\n",
            " - sara_1989@yahoo.com\n",
            " - emily.green@university.edu\n",
            " - daniel.smith@company.co.uk\n",
            "\n",
            "Extracted domains (with duplicates):\n",
            " - example.com\n",
            " - domain.com\n",
            " - domain.co.uk\n",
            " - example.com\n",
            " - yahoo.com\n",
            " - university.edu\n",
            " - company.co.uk\n"
          ]
        }
      ]
    },
    {
      "cell_type": "code",
      "source": [
        "#convert into module\n",
        "%%writefile email_checker_module.py\n",
        "\n",
        "def is_valid_email(email: str) -> bool:\n",
        "    if '@' in email and '.' in email:\n",
        "        parts = email.split('@')\n",
        "        if len(parts) == 2:\n",
        "            username, domain = parts\n",
        "            if username and domain and '.' in domain:\n",
        "                domain_parts = domain.split('.')\n",
        "                if len(domain_parts) >= 2 and all(domain_parts):\n",
        "                    return True\n",
        "    return False\n",
        "\n",
        "def prompt_email_input(attempts: int = 5) -> str:\n",
        "    for attempt in range(attempts):\n",
        "        email = input(f\"Attempt {attempt + 1} - Please enter your email: \")\n",
        "        if is_valid_email(email):\n",
        "            print(\"Your email is valid:\", email)\n",
        "            return email\n",
        "        else:\n",
        "            print(\"Invalid email format. Try again.\")\n",
        "    raise ValueError(f\"You have entered {attempts} invalid emails. Operation aborted.\")\n"
      ],
      "metadata": {
        "colab": {
          "base_uri": "https://localhost:8080/"
        },
        "id": "XrbRptkVObnP",
        "outputId": "8af0bc19-9462-45ca-9e5e-ca651e9b6765"
      },
      "execution_count": 34,
      "outputs": [
        {
          "output_type": "stream",
          "name": "stdout",
          "text": [
            "Writing email_checker_module.py\n"
          ]
        }
      ]
    },
    {
      "cell_type": "code",
      "source": [
        "import email_checker_module as em\n",
        "try:\n",
        "    final_email = em.prompt_email_input()\n",
        "    print(\"Accepted email:\", final_email)\n",
        "except ValueError as e:\n",
        "    print(\"invalid email\", e)\n"
      ],
      "metadata": {
        "colab": {
          "base_uri": "https://localhost:8080/"
        },
        "id": "ZvuoRW42O3Em",
        "outputId": "7fb7bacc-94c6-4315-b8f0-b35ea922113c"
      },
      "execution_count": 35,
      "outputs": [
        {
          "output_type": "stream",
          "name": "stdout",
          "text": [
            "Attempt 1 - Please enter your email: 1\n",
            "Invalid email format. Try again.\n",
            "Attempt 2 - Please enter your email: 2\n",
            "Invalid email format. Try again.\n",
            "Attempt 3 - Please enter your email: 3\n",
            "Invalid email format. Try again.\n",
            "Attempt 4 - Please enter your email: 4\n",
            "Invalid email format. Try again.\n",
            "Attempt 5 - Please enter your email: 5\n",
            "Invalid email format. Try again.\n",
            "invalid email You have entered 5 invalid emails. Operation aborted.\n"
          ]
        }
      ]
    },
    {
      "cell_type": "code",
      "source": [
        "\n"
      ],
      "metadata": {
        "id": "g7-sogCYPElg"
      },
      "execution_count": null,
      "outputs": []
    }
  ]
}